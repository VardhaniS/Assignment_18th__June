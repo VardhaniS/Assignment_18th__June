{
 "cells": [
  {
   "cell_type": "markdown",
   "id": "501721d7",
   "metadata": {},
   "source": [
    "# 1. What is the role of the 'else' block in a try-except statement? Provide an example scenario where it would be useful."
   ]
  },
  {
   "cell_type": "markdown",
   "id": "ded80698",
   "metadata": {},
   "source": [
    "Else block is when exception is not present then it goes to the else block"
   ]
  },
  {
   "cell_type": "code",
   "execution_count": 2,
   "id": "7862b78a",
   "metadata": {},
   "outputs": [
    {
     "name": "stdout",
     "output_type": "stream",
     "text": [
      "10\n",
      "no error\n"
     ]
    }
   ],
   "source": [
    "x=10\n",
    "try:\n",
    "    print(x) #if no error\n",
    "except:\n",
    "    print('Enter thr value of x')\n",
    "else:\n",
    "    print('no error') #it excutes this part"
   ]
  },
  {
   "cell_type": "markdown",
   "id": "40315383",
   "metadata": {},
   "source": [
    "# 2. Can a try-except block be nested inside another try-except block? Explain with an example."
   ]
  },
  {
   "cell_type": "code",
   "execution_count": null,
   "id": "8b3bb27e",
   "metadata": {},
   "outputs": [],
   "source": [
    "Yes "
   ]
  },
  {
   "cell_type": "markdown",
   "id": "630ea86a",
   "metadata": {},
   "source": [
    "# 3. How can you create a custom exception class in Python? Provide an example that demonstrates its usage."
   ]
  },
  {
   "cell_type": "markdown",
   "id": "4f1d05fb",
   "metadata": {},
   "source": [
    "we can create custom exception using class."
   ]
  },
  {
   "cell_type": "code",
   "execution_count": 20,
   "id": "61a4c1ae",
   "metadata": {},
   "outputs": [
    {
     "name": "stdout",
     "output_type": "stream",
     "text": [
      "Enter the age14\n",
      "You cannot vote\n"
     ]
    }
   ],
   "source": [
    "class WrongAnswer(Exception):  #exception is defined\n",
    "    pass\n",
    "\n",
    "try:\n",
    "    n=int(input('Enter the age'))\n",
    "    if n>18:\n",
    "        print('You can vote')\n",
    "    else:\n",
    "        raise WrongAnswer #exception is called or call the exception\n",
    "except WrongAnswer:      \n",
    "    print('You cannot vote')"
   ]
  },
  {
   "cell_type": "markdown",
   "id": "0d703c58",
   "metadata": {},
   "source": [
    "# 4. What are some common exceptions that are built-in to Python?"
   ]
  },
  {
   "cell_type": "markdown",
   "id": "c4b37a90",
   "metadata": {},
   "source": [
    "ValeError, ZeroDivisionError"
   ]
  },
  {
   "cell_type": "markdown",
   "id": "590ecb8e",
   "metadata": {},
   "source": [
    "# 5. What is logging in Python, and why is it important in software development?"
   ]
  },
  {
   "cell_type": "markdown",
   "id": "0ac4308a",
   "metadata": {},
   "source": [
    "It has the internal information or error message stored in a file for furhter check or verification."
   ]
  },
  {
   "cell_type": "markdown",
   "id": "23f4c704",
   "metadata": {},
   "source": [
    "# 6. Explain the purpose of log levels in Python logging and provide examples of when each log level would be appropriate."
   ]
  },
  {
   "cell_type": "markdown",
   "id": "dc25a9d4",
   "metadata": {},
   "source": [
    "\tDebug\tdebugging the code for understanding\t\t\t\n",
    "\tInfo\tDisplays the required information\t\t\t\n",
    "\tWarning\tThe warning event the danger starts from here\t\t\t\n",
    "\tError\tThe error event sev increase\t\t\t\n",
    "\tCritical\tThe system error the sev most increased\t\t\t\n"
   ]
  },
  {
   "cell_type": "markdown",
   "id": "ceefc415",
   "metadata": {},
   "source": [
    "# 7. What are log formatters in Python logging, and how can you customise the log message format using formatters?"
   ]
  },
  {
   "cell_type": "markdown",
   "id": "f9ef433c",
   "metadata": {},
   "source": [
    "Log formatters are used to format the type of message required in the log file.\n",
    "handler.setFormatter(logging.Formatter('%(message)s'))"
   ]
  },
  {
   "cell_type": "markdown",
   "id": "c4b5daac",
   "metadata": {},
   "source": [
    "# 8. How can you set up logging to capture log messages from multiple modules or classes in a Python application?\n"
   ]
  },
  {
   "cell_type": "markdown",
   "id": "2e9a013e",
   "metadata": {},
   "source": []
  },
  {
   "cell_type": "markdown",
   "id": "16d2188c",
   "metadata": {},
   "source": [
    "# 9. What is the difference between the logging and print statements in Python? When should you use logging over print statements in a real-world application?"
   ]
  },
  {
   "cell_type": "markdown",
   "id": "16d43466",
   "metadata": {},
   "source": [
    "logging is used the internal information and no need to display the info on the screen where as using print displays the info on the user screen"
   ]
  },
  {
   "cell_type": "markdown",
   "id": "0f12c234",
   "metadata": {},
   "source": [
    "# 10. Write a Python program that logs a message to a file named \"app.log\" with the\n",
    "following requirements:\n",
    "● The log message should be \"Hello, World!\"\n",
    "● The log level should be set to \"INFO.\"\n",
    "● The log file should append new log entries without overwriting previous ones."
   ]
  },
  {
   "cell_type": "code",
   "execution_count": 19,
   "id": "bf5fb165",
   "metadata": {},
   "outputs": [
    {
     "name": "stdout",
     "output_type": "stream",
     "text": [
      "Hello World\n"
     ]
    }
   ],
   "source": [
    "import os\n",
    "import logging \n",
    "dir_path=r'F:\\ineuron'\n",
    "log_file='app.log'\n",
    "full_path=os.path.join(dir_path,log_file)\n",
    "os.makedirs(dir_path,exist_ok=True)\n",
    "logger = logging.getLogger()\n",
    "logger.setLevel(logging.INFO)\n",
    "handler=logging.FileHandler(full_path)\n",
    "handler.setFormatter(logging.Formatter('%(message)s'))\n",
    "logger.addHandler(handler)\n",
    "\n",
    "print('Hello World')\n",
    "logging.info('Hello, World!')\n",
    "handler.close()"
   ]
  },
  {
   "cell_type": "markdown",
   "id": "752997ed",
   "metadata": {},
   "source": [
    "# 11. Create a Python program that logs an error message to the console and a file named \"errors.log\" if an exception occurs during the program's execution. The error message should include the exception type and a timestamp."
   ]
  },
  {
   "cell_type": "code",
   "execution_count": 17,
   "id": "774b5cca",
   "metadata": {},
   "outputs": [
    {
     "name": "stdout",
     "output_type": "stream",
     "text": [
      "varu\n",
      "4\n",
      "varu\n"
     ]
    }
   ],
   "source": [
    "import os\n",
    "import logging \n",
    "dir_path=r'F:\\ineuron'\n",
    "log_file='errors.log'\n",
    "full_path=os.path.join(dir_path,log_file)\n",
    "os.makedirs(dir_path,exist_ok=True)\n",
    "logger = logging.getLogger()\n",
    "logger.setLevel(logging.ERROR)\n",
    "handler=logging.FileHandler(full_path)\n",
    "handler.setFormatter(logging.Formatter('%(levelname)s:%(asctime)s:%(message)s'))\n",
    "logger.addHandler(handler)\n",
    "\n",
    "\n",
    "def add_num(a,b):\n",
    "    if type(a)!='int':\n",
    "        logging.error('System failure: %s,%s', a,b) \n",
    "    return a\n",
    "\n",
    "a=(input())\n",
    "b=int(input())\n",
    "d=add_num(a,b)\n",
    "print(d)\n",
    "\n",
    "\n",
    "        \n",
    "\n",
    "handler.close()"
   ]
  },
  {
   "cell_type": "code",
   "execution_count": null,
   "id": "9edeeb60",
   "metadata": {},
   "outputs": [],
   "source": []
  },
  {
   "cell_type": "code",
   "execution_count": null,
   "id": "d39aa30d",
   "metadata": {},
   "outputs": [],
   "source": [
    "va"
   ]
  }
 ],
 "metadata": {
  "kernelspec": {
   "display_name": "Python 3 (ipykernel)",
   "language": "python",
   "name": "python3"
  },
  "language_info": {
   "codemirror_mode": {
    "name": "ipython",
    "version": 3
   },
   "file_extension": ".py",
   "mimetype": "text/x-python",
   "name": "python",
   "nbconvert_exporter": "python",
   "pygments_lexer": "ipython3",
   "version": "3.9.7"
  }
 },
 "nbformat": 4,
 "nbformat_minor": 5
}
